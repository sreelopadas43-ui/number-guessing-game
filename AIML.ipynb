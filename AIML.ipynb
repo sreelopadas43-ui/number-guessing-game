{
  "nbformat": 4,
  "nbformat_minor": 0,
  "metadata": {
    "colab": {
      "provenance": [],
      "authorship_tag": "ABX9TyP47ECyodpqiHR6JdAcAeZb",
      "include_colab_link": true
    },
    "kernelspec": {
      "name": "python3",
      "display_name": "Python 3"
    },
    "language_info": {
      "name": "python"
    }
  },
  "cells": [
    {
      "cell_type": "markdown",
      "metadata": {
        "id": "view-in-github",
        "colab_type": "text"
      },
      "source": [
        "<a href=\"https://colab.research.google.com/github/sreelopadas43-ui/number-guessing-game/blob/main/AIML.ipynb\" target=\"_parent\"><img src=\"https://colab.research.google.com/assets/colab-badge.svg\" alt=\"Open In Colab\"/></a>"
      ]
    },
    {
      "cell_type": "code",
      "execution_count": 1,
      "metadata": {
        "colab": {
          "base_uri": "https://localhost:8080/"
        },
        "id": "-EBRlJ5iSnLZ",
        "outputId": "0df14940-7d7f-4b25-a160-d8eea5a31376"
      },
      "outputs": [
        {
          "output_type": "stream",
          "name": "stdout",
          "text": [
            "\n",
            "Instructions:\n",
            "- I will pick a number between 1 and 100.\n",
            "- Try to guess it with as few attempts as possible.\n",
            "- After each guess, you'll get hints: 'Too high' or 'Too low'.\n",
            "- Good luck!\n",
            "\n",
            "\n",
            "=== Number Guessing Game ===\n",
            "1. Play Game\n",
            "2. View High Score\n",
            "3. Exit\n",
            "Choose an option (1-3): 1\n",
            "Enter your guess (1-100): 54\n",
            "Too high! Try again.\n",
            "Enter your guess (1-100): 5\n",
            "Too low! Try again.\n",
            "Enter your guess (1-100): 20\n",
            "Too high! Try again.\n",
            "Enter your guess (1-100): 10\n",
            "Too high! Try again.\n",
            "Enter your guess (1-100): 6\n",
            "🎉 Congrats! You guessed the number in 5 attempts.\n",
            "\n",
            "New high score! 🎉 You set the record with 5 attempts.\n",
            "\n",
            "\n",
            "=== Number Guessing Game ===\n",
            "1. Play Game\n",
            "2. View High Score\n",
            "3. Exit\n",
            "Choose an option (1-3): 2\n",
            "🏆 Current High Score: 5 attempts\n",
            "\n",
            "\n",
            "=== Number Guessing Game ===\n",
            "1. Play Game\n",
            "2. View High Score\n",
            "3. Exit\n",
            "Choose an option (1-3): 3\n",
            "Thanks for playing! Goodbye!\n"
          ]
        }
      ],
      "source": [
        "import random\n",
        "\n",
        "def display_menu():\n",
        "    print(\"\\n=== Number Guessing Game ===\")\n",
        "    print(\"1. Play Game\")\n",
        "    print(\"2. View High Score\")\n",
        "    print(\"3. Exit\")\n",
        "\n",
        "def display_instructions():\n",
        "    print(\"\\nInstructions:\")\n",
        "    print(\"- I will pick a number between 1 and 100\")\n",
        "    print(\"- Try to guess it with as few attempts as possible\")\n",
        "    print(\"- After each guess, you'll get hints: 'Too high' or 'Too low'\")\n",
        "    print(\"- Good luck!\\n\")\n",
        "\n",
        "def get_random_number():\n",
        "    return random.randint(1, 100)\n",
        "\n",
        "def get_player_guess():\n",
        "    while True:\n",
        "        guess = input(\"Enter your guess (1-100): \").strip()\n",
        "        if guess.isdigit():\n",
        "            guess_int = int(guess)\n",
        "            if 1 <= guess_int <= 100:\n",
        "                return guess_int\n",
        "            else:\n",
        "                print(\"Please enter a number between 1 and 100\")\n",
        "        else:\n",
        "            print(\"Invalid input, Please enter a valid integer\")\n",
        "\n",
        "def play_game():\n",
        "    number_to_guess = get_random_number()\n",
        "    attempts = 0\n",
        "\n",
        "    while True:\n",
        "        guess = get_player_guess()\n",
        "        attempts += 1\n",
        "\n",
        "        if guess < number_to_guess:\n",
        "            print(\"Too low! Try again\")\n",
        "        elif guess > number_to_guess:\n",
        "            print(\"Too high! Try again\")\n",
        "        else:\n",
        "            print(f\"🎉 Congrats! You guessed the number in {attempts} attempts\\n\")\n",
        "            return attempts\n",
        "\n",
        "def main():\n",
        "    high_score = None\n",
        "    display_instructions()\n",
        "\n",
        "    while True:\n",
        "        display_menu()\n",
        "        choice = input(\"Choose an option (1-3): \").strip()\n",
        "\n",
        "        if choice == '1':\n",
        "            attempts = play_game()\n",
        "            if high_score is None or attempts < high_score:\n",
        "                high_score = attempts\n",
        "                print(f\"New high score! 🎉 You set the record with {high_score} attempts.\\n\")\n",
        "            else:\n",
        "                print(f\"Your best score remains {high_score} attempts.\\n\")\n",
        "        elif choice == '2':\n",
        "            if high_score is None:\n",
        "                print(\"No high scores yet, Play a game first!\\n\")\n",
        "            else:\n",
        "                print(f\"🏆 Current High Score: {high_score} attempts\\n\")\n",
        "        elif choice == '3':\n",
        "            print(\"Thanks for playing! Goodbye!\")\n",
        "            break\n",
        "        else:\n",
        "            print(\"Invalid choice. Please enter 1, 2, or 3.\\n\")\n",
        "\n",
        "if __name__ == \"__main__\":\n",
        "    main()\n",
        "\n"
      ]
    }
  ]
}